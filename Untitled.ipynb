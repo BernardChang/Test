{
 "cells": [
  {
   "cell_type": "code",
   "execution_count": 20,
   "id": "b06079be",
   "metadata": {},
   "outputs": [
    {
     "ename": "SyntaxError",
     "evalue": "invalid syntax (3688426442.py, line 22)",
     "output_type": "error",
     "traceback": [
      "\u001b[0;36m  File \u001b[0;32m\"/var/folders/b9/hyvrk4xj0ml70x9bg3ljzy4m0000gn/T/ipykernel_5066/3688426442.py\"\u001b[0;36m, line \u001b[0;32m22\u001b[0m\n\u001b[0;31m    r_btn = Button(input_frame, text = \"Rock\", width = 15, bg = \"yellow\", pady = 5, command = lamda: (player_choice[0]))\u001b[0m\n\u001b[0m                                                                                                   ^\u001b[0m\n\u001b[0;31mSyntaxError\u001b[0m\u001b[0;31m:\u001b[0m invalid syntax\n"
     ]
    }
   ],
   "source": [
    "from tkinter import * \n",
    "import random\n",
    "\n",
    "game_window = Tk()\n",
    "game_window. title(\"Rock Paper Scissors Game\")\n",
    "\n",
    "game_title = Label(text = \"Rock Paper Scissors Game\")\n",
    "\n",
    "game_title - Label(text = 'Rock Paper Scissors Game', font= (\"Times 20\"), fg = 'grey')\n",
    "game_title.pack()\n",
    "\n",
    "winner_lbl = Label(text = \"Let's Start The Game...\",fg = 'blue', font= (\"Times 15\"), pady = 8)\n",
    "winner_lbl.pack()\n",
    "\n",
    "input_frame = Frame(game_window)\n",
    "input_frame.pack\n",
    "\n",
    "p_optiions = Label(text = \"Your options:\", font= (\"Times 13\"), fg = \"red\")\n",
    "\n",
    "p_options.grid(row = 0, column = 0, pady = 8)\n",
    "\n",
    "r_btn = Button(input_frame, text = \"Rock\", width = 15, bg = \"yellow\", pady = 5, command = lamda: (player_choice[0]))\n",
    "r_btn.grid(row = 1, column = 0, padx = 8, pady = 5)\n",
    "\n",
    "p_btn = Button(input_frame, text = \"Paper\", width = 15, bg = \"light blue\", pady = 5, command = lamda: (player_choice[1]))\n",
    "p_btn.grid(row = 1, column = 1, padx = 8, pady = 5 )\n",
    "\n",
    "s_btn = Button(input_frame, text = \"Scissors\", width = 15, bg = \"silver\", pady = 5, command = lamda: (player_choice[2]))\n",
    "s_btn.grid(row = 1, column = 1, padx = 8, pady = 5 )\n",
    "\n",
    "score_lbl = Label(input_frame, text = \"Score : \", font=\"Times 13\", fg = \"green\")\n",
    "score_lbl.grid(row = 2, column = 0)\n",
    "\n",
    "p_choice_lbl = Label(input_frame, text = \"You selected :\", font = \"Times 13\")\n",
    "p_choice_lbl.grid(row = 3, column = 1, pady = 5)\n",
    "\n",
    "p_score_lbl = Label(input_frame, text = 'Your Score : ---', font = \"Times 13\")\n",
    "p_score_lbl.grid(row = 3, column = 2, pady =5 )\n",
    "\n",
    "c_choice_lbl = Label(input_frame, text = 'Computer selected :', font = \"Times 13\")\n",
    "c_choice_lbl.grid(row = 4, column = 1, pady = 5)\n",
    "\n",
    "c_score_lbl = Label(input_frame, text = 'Computer\\'s Score : ---', font = \"Times 13\")\n",
    "c_score_lbl.grid(row = 4, column = 2, padx = (10,0), pady =5 )\n",
    "\n",
    "game_window.mainloop()"
   ]
  },
  {
   "cell_type": "code",
   "execution_count": 19,
   "id": "10fcf3e3",
   "metadata": {},
   "outputs": [
    {
     "ename": "SyntaxError",
     "evalue": "invalid syntax (3400229218.py, line 18)",
     "output_type": "error",
     "traceback": [
      "\u001b[0;36m  File \u001b[0;32m\"/var/folders/b9/hyvrk4xj0ml70x9bg3ljzy4m0000gn/T/ipykernel_5066/3400229218.py\"\u001b[0;36m, line \u001b[0;32m18\u001b[0m\n\u001b[0;31m    else\u001b[0m\n\u001b[0m        ^\u001b[0m\n\u001b[0;31mSyntaxError\u001b[0m\u001b[0;31m:\u001b[0m invalid syntax\n"
     ]
    }
   ],
   "source": [
    "player_score = 0 \n",
    "computer_score = 0\n",
    "options = [(\"rock\", 0),(\"paper\", 2),(\"scissors\", 3)  ]\n",
    "\n",
    "def player_choice(player_input):\n",
    "    \n",
    "    global player_score, computer_score\n",
    "    computer_input = get_comp_choice()\n",
    "    \n",
    "    p_choice_lbl.config(text = \"You Selected : \" + player_input[0])\n",
    "    c_choice_lbl.config(text = \"Computer Selected : \" + computer_input[0])  \n",
    "    if (player_input == computer_input):\n",
    "        winner_lbl.config(text = \"Draw\")\n",
    "    elif ((player_input[1] - computer_input[1]) % 3 == 1):\n",
    "        player_score += 1\n",
    "        winner_lbl.config(text = \"You WON!\")\n",
    "        p_score_lbl.config(text = \"Your Score :\" + str(player_score))\n",
    "    else\n",
    "        computer_score += 1\n",
    "        winner_lbl.config(text = \"You Lost!\")\n",
    "        p_score_lbl.config(text = \"Your Score :\" + str(player_score))\n",
    "        \n",
    "        \n",
    "def get_comp_choice()\n",
    "    return"
   ]
  },
  {
   "cell_type": "code",
   "execution_count": null,
   "id": "4f6e2761",
   "metadata": {},
   "outputs": [],
   "source": []
  },
  {
   "cell_type": "code",
   "execution_count": 22,
   "id": "ba64db16",
   "metadata": {},
   "outputs": [
    {
     "ename": "TclError",
     "evalue": "cannot use geometry manager grid inside . which already has slaves managed by pack",
     "output_type": "error",
     "traceback": [
      "\u001b[0;31m---------------------------------------------------------------------------\u001b[0m",
      "\u001b[0;31mTclError\u001b[0m                                  Traceback (most recent call last)",
      "\u001b[0;32m/var/folders/b9/hyvrk4xj0ml70x9bg3ljzy4m0000gn/T/ipykernel_5066/154879363.py\u001b[0m in \u001b[0;36m<module>\u001b[0;34m\u001b[0m\n\u001b[1;32m      5\u001b[0m \u001b[0mframe\u001b[0m\u001b[0;34m.\u001b[0m\u001b[0mpack\u001b[0m\u001b[0;34m(\u001b[0m\u001b[0;34m)\u001b[0m\u001b[0;34m\u001b[0m\u001b[0;34m\u001b[0m\u001b[0m\n\u001b[1;32m      6\u001b[0m \u001b[0mbtn\u001b[0m \u001b[0;34m=\u001b[0m \u001b[0mButton\u001b[0m\u001b[0;34m(\u001b[0m\u001b[0mw\u001b[0m\u001b[0;34m,\u001b[0m \u001b[0mtext\u001b[0m \u001b[0;34m=\u001b[0m \u001b[0;34m\"submit\"\u001b[0m\u001b[0;34m)\u001b[0m\u001b[0;34m\u001b[0m\u001b[0;34m\u001b[0m\u001b[0m\n\u001b[0;32m----> 7\u001b[0;31m \u001b[0mbtn\u001b[0m\u001b[0;34m.\u001b[0m\u001b[0mgrid\u001b[0m\u001b[0;34m(\u001b[0m\u001b[0mrow\u001b[0m \u001b[0;34m=\u001b[0m \u001b[0;36m0\u001b[0m\u001b[0;34m,\u001b[0m \u001b[0mcolumn\u001b[0m \u001b[0;34m=\u001b[0m \u001b[0;36m0\u001b[0m \u001b[0;34m,\u001b[0m \u001b[0mpadx\u001b[0m \u001b[0;34m=\u001b[0m \u001b[0;36m5\u001b[0m\u001b[0;34m,\u001b[0m \u001b[0mpady\u001b[0m \u001b[0;34m=\u001b[0m \u001b[0;36m5\u001b[0m\u001b[0;34m)\u001b[0m\u001b[0;34m\u001b[0m\u001b[0;34m\u001b[0m\u001b[0m\n\u001b[0m\u001b[1;32m      8\u001b[0m \u001b[0mentry\u001b[0m \u001b[0;34m=\u001b[0m \u001b[0mEntry\u001b[0m\u001b[0;34m(\u001b[0m\u001b[0mframe\u001b[0m\u001b[0;34m)\u001b[0m\u001b[0;34m\u001b[0m\u001b[0;34m\u001b[0m\u001b[0m\n\u001b[1;32m      9\u001b[0m \u001b[0mentry\u001b[0m\u001b[0;34m.\u001b[0m\u001b[0mgrid\u001b[0m\u001b[0;34m(\u001b[0m\u001b[0mrow\u001b[0m \u001b[0;34m=\u001b[0m \u001b[0;36m0\u001b[0m\u001b[0;34m,\u001b[0m \u001b[0mcolumn\u001b[0m \u001b[0;34m=\u001b[0m \u001b[0;36m1\u001b[0m\u001b[0;34m,\u001b[0m \u001b[0mpadx\u001b[0m \u001b[0;34m=\u001b[0m \u001b[0;36m5\u001b[0m\u001b[0;34m,\u001b[0m \u001b[0mpady\u001b[0m \u001b[0;34m=\u001b[0m \u001b[0;36m5\u001b[0m\u001b[0;34m)\u001b[0m\u001b[0;34m\u001b[0m\u001b[0;34m\u001b[0m\u001b[0m\n",
      "\u001b[0;32m~/opt/anaconda3/lib/python3.9/tkinter/__init__.py\u001b[0m in \u001b[0;36mgrid_configure\u001b[0;34m(self, cnf, **kw)\u001b[0m\n\u001b[1;32m   2491\u001b[0m                       \u001b[0mwidget\u001b[0m \u001b[0mstick\u001b[0m \u001b[0mto\u001b[0m \u001b[0mthe\u001b[0m \u001b[0mcell\u001b[0m \u001b[0mboundary\u001b[0m\u001b[0;34m\u001b[0m\u001b[0;34m\u001b[0m\u001b[0m\n\u001b[1;32m   2492\u001b[0m         \"\"\"\n\u001b[0;32m-> 2493\u001b[0;31m         self.tk.call(\n\u001b[0m\u001b[1;32m   2494\u001b[0m               \u001b[0;34m(\u001b[0m\u001b[0;34m'grid'\u001b[0m\u001b[0;34m,\u001b[0m \u001b[0;34m'configure'\u001b[0m\u001b[0;34m,\u001b[0m \u001b[0mself\u001b[0m\u001b[0;34m.\u001b[0m\u001b[0m_w\u001b[0m\u001b[0;34m)\u001b[0m\u001b[0;34m\u001b[0m\u001b[0;34m\u001b[0m\u001b[0m\n\u001b[1;32m   2495\u001b[0m               + self._options(cnf, kw))\n",
      "\u001b[0;31mTclError\u001b[0m: cannot use geometry manager grid inside . which already has slaves managed by pack"
     ]
    }
   ],
   "source": [
    "w = Tk()\n",
    "title = Label \n",
    "\n",
    "lbl = Label(w, text = \"Questions...\", font =(\"Times 15\"))\n",
    "lbl.pack()\n",
    "frame = Frame(w)\n",
    "frame.pack()\n",
    "btn = Button(w, text = \"submit\")\n",
    "btn.grid(row = 0, column = 0 , padx = 5, pady = 5)\n",
    "entry = Entry(frame)\n",
    "entry.grid(row = 0, column = 1, padx = 5, pady = 5)\n",
    "\n",
    "result = Label(frame, text = \"Your result\")\n",
    "result.grid(row = 1, column = 0, pady = 8)\n",
    "\n",
    "w.mainloop"
   ]
  },
  {
   "cell_type": "code",
   "execution_count": null,
   "id": "3a8e987e",
   "metadata": {},
   "outputs": [],
   "source": []
  }
 ],
 "metadata": {
  "kernelspec": {
   "display_name": "Python 3 (ipykernel)",
   "language": "python",
   "name": "python3"
  },
  "language_info": {
   "codemirror_mode": {
    "name": "ipython",
    "version": 3
   },
   "file_extension": ".py",
   "mimetype": "text/x-python",
   "name": "python",
   "nbconvert_exporter": "python",
   "pygments_lexer": "ipython3",
   "version": "3.9.7"
  }
 },
 "nbformat": 4,
 "nbformat_minor": 5
}
